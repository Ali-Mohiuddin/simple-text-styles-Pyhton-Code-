{
 "cells": [
  {
   "cell_type": "code",
   "execution_count": null,
   "metadata": {},
   "outputs": [],
   "source": [
    "print(\"Output-1 \\n \\n\")\n",
    "\n",
    "\n",
    "print(\"Ali-Mohiuddin\")\n",
    "print(\"      Ali-Mohiuddin\")\n",
    "print(\"Ali-Mohiuddin\")\n",
    "print(\"      Ali-Mohiuddin\")\n",
    "print(\"Ali-Mohiuddin\")\n",
    "print(\"      Ali-Mohiuddin\")\n",
    "print(\"Ali-Mohiuddin\")\n",
    "print(\"      Ali-Mohiuddin\")\n",
    "print(\"Ali-Mohiuddin\")\n",
    "print(\"      Ali-Mohiuddin \\n \\n\")\n",
    "\n",
    "print(\"Output-2 \\n \\n\")\n",
    "\n",
    "print(\"Ali-Mohiuddin    Ali-Mohiudnin\")\n",
    "print(\"Ali-Mohiuddin    Ali-Mohiudnin\")\n",
    "print(\"Ali-Mohiuddin    Ali-Mohiudnin\")\n",
    "print(\"Ali-Mohiuddin    Ali-Mohiudnin\")\n",
    "print(\"Ali-Mohiuddin    Ali-Mohiudnin\")\n",
    "print(\"Ali-Mohiuddin    Ali-Mohiudnin\")\n",
    "print(\"Ali-Mohiuddin    Ali-Mohiudnin\")\n",
    "print(\"Ali-Mohiuddin    Ali-Mohiuddin\")\n",
    "print(\"Ali-Mohiuddin    Ali-Mohiuddin\")\n",
    "print(\"Ali-Mohiuddin    Ali-Mohiuddin \\n \\n\")\n",
    "\n",
    "print(\"Output-3 \\n \\n\")\n",
    "\n",
    "\n",
    "print(\"        Ali-Mohiuddin\")\n",
    "print(\"Ali-Mohiuddin    Ali-Mohiuddin\")\n",
    "print(\"        Ali-Mohiuddin\")\n",
    "print(\"Ali-Mohiuddin    Ali-Mohiuddin\")\n",
    "print(\"        Ali-Mohiuddin\")\n",
    "print(\"Ali-Mohiuddin    Ali-Mohiuddin\")\n",
    "print(\"        Ali-Mohiuddin\")\n",
    "print(\"Ali-Mohiuddin    Ali-Mohiuddin\")\n",
    "print(\"        Ali-Mohiuddin\")\n",
    "print(\"Ali-Mohiuddin    Ali-Mohiuddin \\n \\n\")\n",
    "\n",
    "\n",
    "print(\"Output-4 \\n \\n\")\n",
    "\n",
    "\n",
    "print(\"Ali-Mohiuddin\")\n",
    "print(\"    Ali-Mohiuddin\")\n",
    "print(\"        Ali-Mohiuddin\")\n",
    "print(\"            Ali-Mohiuddin\")\n",
    "print(\"                Ali-Mohiuddin\")\n",
    "print(\"            Ali-Mohiuddin\")\n",
    "print(\"        Ali-Mohiuddin\")\n",
    "print(\"    Ali-Mohiuddin\")\n",
    "print(\" Ali-Mohiuddin\")"
   ]
  }
 ],
 "metadata": {
  "kernelspec": {
   "display_name": "Python 3",
   "language": "python",
   "name": "python3"
  },
  "language_info": {
   "codemirror_mode": {
    "name": "ipython",
    "version": 3
   },
   "file_extension": ".py",
   "mimetype": "text/x-python",
   "name": "python",
   "nbconvert_exporter": "python",
   "pygments_lexer": "ipython3",
   "version": "3.7.6"
  }
 },
 "nbformat": 4,
 "nbformat_minor": 4
}
